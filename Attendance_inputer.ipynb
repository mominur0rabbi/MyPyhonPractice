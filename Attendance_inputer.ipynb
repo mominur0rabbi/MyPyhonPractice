{
 "cells": [
  {
   "cell_type": "code",
   "execution_count": 1,
   "id": "bedb206a",
   "metadata": {},
   "outputs": [],
   "source": [
    "import pandas as pd\n"
   ]
  },
  {
   "cell_type": "code",
   "execution_count": 11,
   "id": "082a92af",
   "metadata": {},
   "outputs": [],
   "source": [
    "# Load File\n",
    "f1= pd.read_csv('HSC_B02Atten.csv')\n",
    "f2= pd.read_csv('HSC_B02Main.csv')"
   ]
  },
  {
   "cell_type": "code",
   "execution_count": 4,
   "id": "20d81aba",
   "metadata": {},
   "outputs": [],
   "source": [
    "f3= pd.read_csv('HSC_B01Atten.csv')"
   ]
  },
  {
   "cell_type": "code",
   "execution_count": 12,
   "id": "5a2d9e6e",
   "metadata": {},
   "outputs": [],
   "source": [
    "# Add two file\n",
    "add = pd.merge(f2, f1, how ='outer')"
   ]
  },
  {
   "cell_type": "code",
   "execution_count": 13,
   "id": "e2fa460f",
   "metadata": {},
   "outputs": [],
   "source": [
    "# convert to csv New file\n",
    "add.to_csv('attendB2.csv', index=False)"
   ]
  },
  {
   "cell_type": "code",
   "execution_count": null,
   "id": "2ca0133c",
   "metadata": {},
   "outputs": [],
   "source": []
  }
 ],
 "metadata": {
  "kernelspec": {
   "display_name": "Python 3",
   "language": "python",
   "name": "python3"
  },
  "language_info": {
   "codemirror_mode": {
    "name": "ipython",
    "version": 3
   },
   "file_extension": ".py",
   "mimetype": "text/x-python",
   "name": "python",
   "nbconvert_exporter": "python",
   "pygments_lexer": "ipython3",
   "version": "3.8.8"
  }
 },
 "nbformat": 4,
 "nbformat_minor": 5
}
